{
 "cells": [
  {
   "cell_type": "code",
   "execution_count": 4,
   "metadata": {},
   "outputs": [
    {
     "name": "stdout",
     "output_type": "stream",
     "text": [
      "120\n"
     ]
    }
   ],
   "source": [
    "#Q - 1. Write a Python Program to Find the Factorial of a Number?\n",
    "#Answer:\n",
    "def factorial(n):\n",
    "    if n==1:\n",
    "        return 1\n",
    "    else:\n",
    "        return n*factorial(n-1)\n",
    "\n",
    "print(factorial(5))"
   ]
  },
  {
   "cell_type": "code",
   "execution_count": 6,
   "metadata": {},
   "outputs": [
    {
     "name": "stdout",
     "output_type": "stream",
     "text": [
      "5 * 1 = 5\n",
      "5 * 2 = 10\n",
      "5 * 3 = 15\n",
      "5 * 4 = 20\n",
      "5 * 5 = 25\n",
      "5 * 6 = 30\n",
      "5 * 7 = 35\n",
      "5 * 8 = 40\n",
      "5 * 9 = 45\n",
      "5 * 10 = 50\n"
     ]
    }
   ],
   "source": [
    "#Q - 2. Write a Python Program to Display the multiplication Table?\n",
    "#Answer:\n",
    "num = int(input(\"Pls enter the number for which multiplication table to display: \"))\n",
    "for i in range(1,11):\n",
    "    print(f\"{num} * {i} = {num*i}\")\n",
    "    #i = i+1\n"
   ]
  },
  {
   "cell_type": "code",
   "execution_count": 12,
   "metadata": {},
   "outputs": [
    {
     "name": "stdout",
     "output_type": "stream",
     "text": [
      "Print fibonacci sequence:  [0, 1, 1, 2, 3]\n"
     ]
    }
   ],
   "source": [
    "#Q - 3. Write a Python Program to Print the Fibonacci sequence?\n",
    "#Answer:\n",
    "def fibonacci_sequence(n):\n",
    "    sequence = []\n",
    "    if n==0:\n",
    "        sequence = []\n",
    "    elif n==1 :\n",
    "        sequence = [0]\n",
    "    elif n==2 :\n",
    "        sequence = [0,1]\n",
    "    else:\n",
    "        sequence = [0,1]\n",
    "        for i in range(2,n):\n",
    "            sequence.append(sequence[i-1]+sequence[i-2])\n",
    "    return sequence\n",
    "\n",
    "print(\"Print fibonacci sequence: \",fibonacci_sequence(5) )\n"
   ]
  },
  {
   "cell_type": "code",
   "execution_count": 17,
   "metadata": {},
   "outputs": [
    {
     "name": "stdout",
     "output_type": "stream",
     "text": [
      "768  is not an armstrong number\n"
     ]
    }
   ],
   "source": [
    "#Q - 4. Write a Python Program to Check Armstrong Number?\n",
    "#Answer:\n",
    "def is_armstrong_number(num):\n",
    "    str_num = str(num) #converting number to string version for calculating it's length which is required\n",
    "    num_len = len(str_num)\n",
    "    sum_of_digits = 0 #bydefault we will set it to 0\n",
    "\n",
    "    for digits in str_num:\n",
    "        sum_of_digits += int(digits) ** num_len\n",
    "    \n",
    "    if sum_of_digits == num :\n",
    "        return True\n",
    "    else:\n",
    "        return False\n",
    "\n",
    "number = int(input(\"Pls enter a number to check: \"))\n",
    "if is_armstrong_number(number):\n",
    "    print(number, \"is an armstrong number\")\n",
    "else:\n",
    "    print(number,\" is not an armstrong number\")\n"
   ]
  },
  {
   "cell_type": "code",
   "execution_count": 18,
   "metadata": {},
   "outputs": [
    {
     "name": "stdout",
     "output_type": "stream",
     "text": [
      "Armstrong numbers in the interval [45, 9010]: \n",
      "153\n",
      "370\n",
      "371\n",
      "407\n",
      "1634\n",
      "8208\n"
     ]
    }
   ],
   "source": [
    "#Q - 5. Write a Python Program to Find Armstrong Number in an Interval?\n",
    "#Answer:\n",
    "\n",
    "def is_armstrong_number(number):\n",
    "    # Convert the number to a string to count the digits\n",
    "    num_str = str(number)\n",
    "    \n",
    "    # Count the number of digits\n",
    "    num_digits = len(num_str)\n",
    "    \n",
    "    # Initialize the sum of the digits raised to the power of the number of digits\n",
    "    sum_of_digits = 0\n",
    "    \n",
    "    # Calculate the sum of the digits raised to the power of the number of digits\n",
    "    for digit in num_str:\n",
    "        sum_of_digits += int(digit) ** num_digits\n",
    "    \n",
    "    # Check if the sum is equal to the original number\n",
    "    if sum_of_digits == number:\n",
    "        return True\n",
    "    else:\n",
    "        return False\n",
    "\n",
    "# Function to find Armstrong numbers within a given interval\n",
    "def find_armstrong_numbers(start, end):\n",
    "    armstrong_numbers = []\n",
    "    \n",
    "    # Iterate through the numbers in the interval\n",
    "    for number in range(start, end + 1):\n",
    "        if is_armstrong_number(number):\n",
    "            armstrong_numbers.append(number)\n",
    "    \n",
    "    return armstrong_numbers\n",
    "\n",
    "# Test the function\n",
    "start = int(input(\"Enter the start of the interval: \"))\n",
    "end = int(input(\"Enter the end of the interval: \"))\n",
    "\n",
    "armstrong_numbers = find_armstrong_numbers(start, end)\n",
    "\n",
    "print(\"Armstrong numbers in the interval [{}, {}]: \".format(start, end))\n",
    "for number in armstrong_numbers:\n",
    "    print(number)"
   ]
  },
  {
   "cell_type": "code",
   "execution_count": 20,
   "metadata": {},
   "outputs": [
    {
     "name": "stdout",
     "output_type": "stream",
     "text": [
      "Sum of natural numbers is:  15\n"
     ]
    }
   ],
   "source": [
    "#Q - 6. Write a Python Program to Find the Sum of Natural Numbers?\n",
    "#Answer:\n",
    "def sum_natural_numbers(limit):\n",
    "    sum = 0\n",
    "    for i in range(1,limit+1):\n",
    "        sum = sum + i\n",
    "    return sum\n",
    "\n",
    "number = int(input(\"pls enter the limit: \"))\n",
    "print(\"Sum of natural numbers is: \",sum_natural_numbers(number) )"
   ]
  },
  {
   "cell_type": "code",
   "execution_count": null,
   "metadata": {},
   "outputs": [],
   "source": []
  }
 ],
 "metadata": {
  "kernelspec": {
   "display_name": "Python 3.9.6 64-bit",
   "language": "python",
   "name": "python3"
  },
  "language_info": {
   "codemirror_mode": {
    "name": "ipython",
    "version": 3
   },
   "file_extension": ".py",
   "mimetype": "text/x-python",
   "name": "python",
   "nbconvert_exporter": "python",
   "pygments_lexer": "ipython3",
   "version": "3.9.6"
  },
  "orig_nbformat": 4,
  "vscode": {
   "interpreter": {
    "hash": "31f2aee4e71d21fbe5cf8b01ff0e069b9275f58929596ceb00d14d90e3e16cd6"
   }
  }
 },
 "nbformat": 4,
 "nbformat_minor": 2
}
